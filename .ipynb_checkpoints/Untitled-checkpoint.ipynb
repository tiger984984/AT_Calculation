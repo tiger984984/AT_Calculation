{
 "cells": [
  {
   "cell_type": "code",
   "execution_count": null,
   "metadata": {
    "collapsed": false
   },
   "outputs": [],
   "source": [
    "import sys\n",
    "from PyQt5.QtWidgets import QApplication\n",
    "from PyQt5.QtWidgets import QWidget\n",
    "from PyQt5.QtWidgets import QTableWidget\n",
    "from PyQt5.QtWidgets import QTableWidgetItem\n",
    "from PyQt5.QtWidgets import QAbstractItemView\n",
    "from PyQt5.QtWidgets import QPushButton\n",
    "from qtpy.QtCore import Qt\n",
    " \n",
    "class testWindow(QWidget):\n",
    "    def __init__(self):\n",
    "        super().__init__()\n",
    " \n",
    "        self.initUI()\n",
    " \n",
    "    def initUI(self):\n",
    " \n",
    "        self.table = QTableWidget(self)\n",
    "        self.table.move(20, 20)\n",
    "        self.table.setColumnCount(3)\n",
    "        self.table.setFixedHeight(300)\n",
    "        self.table.setFixedWidth(500)\n",
    "        self.table.setSelectionBehavior(QAbstractItemView.SelectRows)#设置表格的选取方式是行选取\n",
    "        self.table.setSelectionMode(QAbstractItemView.SingleSelection)#设置选取方式为单个选取\n",
    "        self.table.setHorizontalHeaderLabels([\"标记ID\", \"标记名称\", \"标记初始坐标\"]) #设置行表头\n",
    "        self.table.verticalHeader().setVisible(False)#隐藏列表头\n",
    " \n",
    "        self.table_insert()\n",
    " \n",
    "        self.table.itemChanged.connect(self.table_update)\n",
    " \n",
    "        self.delete_button = QPushButton(self)\n",
    "        self.delete_button.move(230, 350)\n",
    "        self.delete_button.setFixedWidth(100)\n",
    "        self.delete_button.setFixedHeight(32)\n",
    "        self.delete_button.clicked.connect(self.table_delete)\n",
    "        self.delete_button.setText(\"Delete\")\n",
    " \n",
    "        self.setGeometry(200, 200, 570, 400)\n",
    "        self.show()\n",
    " \n",
    "    #insert,只是简单插入一个固定数据\n",
    "    def table_insert(self):\n",
    "        row = self.table.rowCount()\n",
    "        self.table.insertRow(row)\n",
    " \n",
    "        item_id = QTableWidgetItem(\"1\")\n",
    "        item_id.setFlags(Qt.ItemIsSelectable | Qt.ItemIsEnabled)  # 设置物件的状态为只可被选择（未设置可编辑）\n",
    " \n",
    "        item_name = QTableWidgetItem(\"door\") #我们要求它可以修改，所以使用默认的状态即可\n",
    " \n",
    "        item_pos = QTableWidgetItem(\"(1,2)\")\n",
    "        item_pos.setFlags(Qt.ItemIsSelectable | Qt.ItemIsEnabled)  # 设置物件的状态为只可被选择\n",
    " \n",
    "        self.table.setItem(row, 0, item_id)\n",
    "        self.table.setItem(row, 1, item_name)\n",
    "        self.table.setItem(row, 2, item_pos)\n",
    "        #以下可以加入保存数据到数据的操作\n",
    " \n",
    "    #update\n",
    "    def table_update(self):\n",
    "        row_select = self.table.selectedItems()\n",
    "        if len(row_select) == 0:\n",
    "            return\n",
    "        id = row_select[0].text()\n",
    "        new_name = row_select[1].text()\n",
    "        print(\"id: {}, save_name: {}\".format(id,new_name))\n",
    "        # 以下可以加入保存数据到数据的操作\n",
    "        '''\n",
    "        eg. update {table} set name = \"new_name\" where id = \"id\"\n",
    "        '''\n",
    " \n",
    "    #delete\n",
    "    def table_delete(self):\n",
    "        row_select = self.table.selectedItems()\n",
    "        if len(row_select) == 0:\n",
    "            return\n",
    "        id = row_select[0].text()\n",
    "        print(\"id: {}\".format(id))\n",
    " \n",
    "        row = row_select[0].row()\n",
    "        self.table.removeRow(row)\n",
    "        # 以下可以加入保存数据到数据的操作\n",
    "        '''\n",
    "        eg. delete from {table} where id = \"id\"\n",
    "        '''\n",
    "if __name__ == \"__main__\":\n",
    "    app = QApplication(sys.argv)\n",
    "    main_window = testWindow()\n",
    "    sys.exit(app.exec_())"
   ]
  },
  {
   "cell_type": "code",
   "execution_count": null,
   "metadata": {
    "collapsed": true
   },
   "outputs": [],
   "source": []
  },
  {
   "cell_type": "code",
   "execution_count": null,
   "metadata": {
    "collapsed": true
   },
   "outputs": [],
   "source": []
  },
  {
   "cell_type": "code",
   "execution_count": null,
   "metadata": {
    "collapsed": true
   },
   "outputs": [],
   "source": []
  },
  {
   "cell_type": "code",
   "execution_count": null,
   "metadata": {
    "collapsed": true
   },
   "outputs": [],
   "source": []
  }
 ],
 "metadata": {
  "anaconda-cloud": {},
  "kernelspec": {
   "display_name": "Python [conda root]",
   "language": "python",
   "name": "conda-root-py"
  },
  "language_info": {
   "codemirror_mode": {
    "name": "ipython",
    "version": 3
   },
   "file_extension": ".py",
   "mimetype": "text/x-python",
   "name": "python",
   "nbconvert_exporter": "python",
   "pygments_lexer": "ipython3",
   "version": "3.5.2"
  }
 },
 "nbformat": 4,
 "nbformat_minor": 1
}
