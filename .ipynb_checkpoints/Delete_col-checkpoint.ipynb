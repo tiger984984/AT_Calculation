{
 "cells": [
  {
   "cell_type": "code",
   "execution_count": null,
   "metadata": {
    "collapsed": false
   },
   "outputs": [],
   "source": [
    "from PyQt5 import QtCore, QtGui, QtWidgets\n",
    "\n",
    "class WidgetGallery(QtWidgets.QDialog):\n",
    "    \n",
    "\n",
    "    def __init__(self, parent=None):\n",
    "        super(WidgetGallery, self).__init__(parent)\n",
    "        self.table = QtWidgets.QTableWidget(10, 3)\n",
    "        #col_1 = QtWidgets.QTableWidgetItem(\"first_col\")\n",
    "        #col_2 =QtWidgets.QTableWidgetItem(\"second_col\")\n",
    "        #deleteButton = QtWidgets.QPushButton(\"delete_this_row\")\n",
    "        #deleteButton.clicked.connect(self.deleteClicked)\n",
    "        #self.table.setItem(0, 0, col_1)\n",
    "        #self.table.setItem(0, 1, col_2)\n",
    "        #self.table.setCellWidget(0, 2, deleteButton)\n",
    "        self.mainLayout = QtWidgets.QGridLayout(self)\n",
    "        self.mainLayout.addWidget(self.table)\n",
    "\n",
    "    #@QtCore.pyqtSlot()\n",
    "    #def deleteClicked(self):\n",
    "        #button = self.sender()\n",
    "        #if button:\n",
    "            #row = self.table.indexAt(button.pos()).row()\n",
    "            #self.table.removeRow(row)\n",
    "if __name__ == '__main__':\n",
    "\n",
    "    import sys\n",
    "    app = QtWidgets.QApplication(sys.argv)\n",
    "    w = WidgetGallery()\n",
    "    w.show()\n",
    "    sys.exit(app.exec_())"
   ]
  },
  {
   "cell_type": "code",
   "execution_count": null,
   "metadata": {
    "collapsed": true
   },
   "outputs": [],
   "source": []
  }
 ],
 "metadata": {
  "anaconda-cloud": {},
  "kernelspec": {
   "display_name": "Python [conda root]",
   "language": "python",
   "name": "conda-root-py"
  },
  "language_info": {
   "codemirror_mode": {
    "name": "ipython",
    "version": 3
   },
   "file_extension": ".py",
   "mimetype": "text/x-python",
   "name": "python",
   "nbconvert_exporter": "python",
   "pygments_lexer": "ipython3",
   "version": "3.5.2"
  }
 },
 "nbformat": 4,
 "nbformat_minor": 1
}
